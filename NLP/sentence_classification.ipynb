{
  "nbformat": 4,
  "nbformat_minor": 0,
  "metadata": {
    "colab": {
      "provenance": []
    },
    "kernelspec": {
      "name": "python3",
      "display_name": "Python 3"
    },
    "language_info": {
      "name": "python"
    }
  },
  "cells": [
    {
      "cell_type": "code",
      "execution_count": null,
      "metadata": {
        "colab": {
          "base_uri": "https://localhost:8080/"
        },
        "id": "oTrNRYQSJ8Vm",
        "outputId": "851077bf-94e9-44e5-f610-bfc2642a97e2"
      },
      "outputs": [
        {
          "output_type": "stream",
          "name": "stdout",
          "text": [
            "[('Massachusetts has established however to early participants and aa car loans new zealand.', 'bad'), ('The birth was affected at both the jamestown and plymouth circumstances.', 'bad'), ('Both are purchased within the pennine alps in the gordon lund insurance of valais.', 'bad'), ('The unclean bank fraud insurance for the senate is written upon private agent.', 'bad'), ('Or it could provide a registration protection, which would ping the health on to costs.', 'bad'), (\"With mean girls, lohan's available trading was picked also and paparazzi wanted doing her.\", 'bad'), ('The physiologic stock is named with same debts of global parts on mothers unarmed as', 'bad'), ('Wholly the mailbox is a japanese false but it is red to pay the wife of the annuity.', 'bad'), ('To mold thus, home mortgage loan quote tracy california, it must meet ill.', 'bad'), ('Drug thousand participants, about cultural of their 1900 aid, carried for better copayments.', 'bad'), ('Racial insurers paid shark easier for services and locked dens with native americans.', 'bad'), ('Modern universities are us established, hartford insurance group stock price.', 'bad'), ('Have i led big car insurance rapid on some several amounts because of used conversions?', 'bad'), ('In a extreme work a local week of date may be other to cover the freight.', 'bad'), ('Premiums have covered more to the services of backgrounds than those of invoice reports.', 'bad'), ('By 1977, assets diesel to buy property beds met, learning concept times and state', 'bad'), ('There are more than flat hour schools for each payroll of the fast low interest loans.', 'bad'), ('In countrywide pay mortgage with credit card, he was developed by his shippers.', 'bad'), ('A options insurance uk might foresee for medical elements on large products.', 'bad'), ('Not, insurance on a scion tc continues it left for capabilities to experience more residents.', 'bad')]\n"
          ]
        }
      ],
      "source": [
        "import csv\n",
        "with open(\"good_bad_sentence_balanced.csv\") as fp:\n",
        "    reader = csv.reader(fp, delimiter=\",\", quotechar='\"')\n",
        "    # next(reader, None)  # skip the headers\n",
        "    data_read = [(row[0].strip(), row[1]) for row in reader]\n",
        "\n",
        "print(data_read[:20])"
      ]
    },
    {
      "cell_type": "code",
      "source": [
        "good_count, bad_count = 0, 0\n",
        "for tup in data_read:\n",
        "  if tup[1] == 'good':\n",
        "    good_count += 1\n",
        "  else: \n",
        "    bad_count += 1\n",
        "\n",
        "print(good_count, bad_count)"
      ],
      "metadata": {
        "colab": {
          "base_uri": "https://localhost:8080/"
        },
        "id": "WCtkNYz3SXXw",
        "outputId": "fc33a3cb-dbc1-4fbb-a63b-eed00aa1e849"
      },
      "execution_count": null,
      "outputs": [
        {
          "output_type": "stream",
          "name": "stdout",
          "text": [
            "202 202\n"
          ]
        }
      ]
    },
    {
      "cell_type": "code",
      "source": [
        "from random import shuffle\n",
        "shuffle(data_read)"
      ],
      "metadata": {
        "id": "wiSDGMZMS-0y"
      },
      "execution_count": null,
      "outputs": []
    },
    {
      "cell_type": "code",
      "source": [
        "train_samples = int(len(data_read) * .8)\n",
        "\n",
        "train = data_read[:train_samples]\n",
        "test = data_read[train_samples:]\n",
        "print(test[:10])"
      ],
      "metadata": {
        "colab": {
          "base_uri": "https://localhost:8080/"
        },
        "id": "L62Jm-dLTsxj",
        "outputId": "f6d17fa2-97c2-49c0-f488-59e4c233d6a9"
      },
      "execution_count": null,
      "outputs": [
        {
          "output_type": "stream",
          "name": "stdout",
          "text": [
            "[('Treasury can improve the posts to main mortgage loans uk issues as often worldwide much.', 'bad'), ('In ancient Egypt, the symbol of the sun rising over a hilly horizon signified life.', 'good'), ('Wary legislatures in the uk not invest local car insurance in spokane from operations.', 'bad'), (\"I nominated Carol for the position of vice-president of the union, but she didn't want to run.\", 'good'), ('appropriate The old woman invoked the aid of a stranger when her husband collapsed on the sidewalk.', 'good'), (\"I got stuck on question five on the math test because I couldn't remember the formula.\", 'good'), ('At top of rise, right at T-junction (129747) along walled lane to road (122745).', 'bad'), ('corporate The doctor put Anne on a high dosage of iron when she was pregnant.', 'good'), ('The implements of drinking water from it are more in quantity than stars.', 'bad'), ('No, not with another stellar performance, THESE ARE THE SAME COMEDY ACTS!!!', 'bad')]\n"
          ]
        }
      ]
    },
    {
      "cell_type": "code",
      "source": [
        "!pip install textblob"
      ],
      "metadata": {
        "colab": {
          "base_uri": "https://localhost:8080/"
        },
        "id": "H7OO-_7sUpgv",
        "outputId": "2790a080-a761-4e8a-de9f-8216ee216db0"
      },
      "execution_count": null,
      "outputs": [
        {
          "output_type": "stream",
          "name": "stdout",
          "text": [
            "Looking in indexes: https://pypi.org/simple, https://us-python.pkg.dev/colab-wheels/public/simple/\n",
            "Requirement already satisfied: textblob in /usr/local/lib/python3.7/dist-packages (0.15.3)\n",
            "Requirement already satisfied: nltk>=3.1 in /usr/local/lib/python3.7/dist-packages (from textblob) (3.7)\n",
            "Requirement already satisfied: click in /usr/local/lib/python3.7/dist-packages (from nltk>=3.1->textblob) (7.1.2)\n",
            "Requirement already satisfied: tqdm in /usr/local/lib/python3.7/dist-packages (from nltk>=3.1->textblob) (4.64.1)\n",
            "Requirement already satisfied: regex>=2021.8.3 in /usr/local/lib/python3.7/dist-packages (from nltk>=3.1->textblob) (2022.6.2)\n",
            "Requirement already satisfied: joblib in /usr/local/lib/python3.7/dist-packages (from nltk>=3.1->textblob) (1.2.0)\n"
          ]
        }
      ]
    },
    {
      "cell_type": "code",
      "source": [
        "import nltk\n",
        "nltk.download('punkt')"
      ],
      "metadata": {
        "colab": {
          "base_uri": "https://localhost:8080/"
        },
        "id": "DJ7v7DhGVClJ",
        "outputId": "c7e07d30-66af-4fd4-e790-5e64ceb3f992"
      },
      "execution_count": null,
      "outputs": [
        {
          "output_type": "stream",
          "name": "stderr",
          "text": [
            "[nltk_data] Downloading package punkt to /root/nltk_data...\n",
            "[nltk_data]   Unzipping tokenizers/punkt.zip.\n"
          ]
        },
        {
          "output_type": "execute_result",
          "data": {
            "text/plain": [
              "True"
            ]
          },
          "metadata": {},
          "execution_count": 13
        }
      ]
    },
    {
      "cell_type": "code",
      "source": [
        "from textblob.classifiers import NaiveBayesClassifier\n",
        "cl = NaiveBayesClassifier(train)"
      ],
      "metadata": {
        "id": "hZV7ciD0Uuxx"
      },
      "execution_count": null,
      "outputs": []
    },
    {
      "cell_type": "code",
      "source": [
        "cl.accuracy(test)"
      ],
      "metadata": {
        "colab": {
          "base_uri": "https://localhost:8080/"
        },
        "id": "xxAqDuw7Va3K",
        "outputId": "66a66358-1b45-4ab8-deb0-21ae41571908"
      },
      "execution_count": null,
      "outputs": [
        {
          "output_type": "execute_result",
          "data": {
            "text/plain": [
              "0.7901234567901234"
            ]
          },
          "metadata": {},
          "execution_count": 75
        }
      ]
    },
    {
      "cell_type": "code",
      "source": [
        "cl.show_informative_features()"
      ],
      "metadata": {
        "colab": {
          "base_uri": "https://localhost:8080/"
        },
        "id": "-TiWhLoZVpW5",
        "outputId": "0f2b8e7e-9fe4-4055-8636-261153d43913"
      },
      "execution_count": null,
      "outputs": [
        {
          "output_type": "stream",
          "name": "stdout",
          "text": [
            "Most Informative Features\n",
            "             contains(A) = True             good : bad    =      8.6 : 1.0\n",
            "          contains(once) = True             good : bad    =      6.8 : 1.0\n",
            "          contains(said) = True             good : bad    =      5.2 : 1.0\n",
            "          contains(been) = True             good : bad    =      4.5 : 1.0\n",
            "          contains(high) = True             good : bad    =      4.5 : 1.0\n",
            "            contains(if) = True              bad : good   =      4.2 : 1.0\n",
            "            contains(We) = True             good : bad    =      3.9 : 1.0\n",
            "          contains(into) = True             good : bad    =      3.8 : 1.0\n",
            "        contains(little) = True             good : bad    =      3.8 : 1.0\n",
            "          contains(This) = True              bad : good   =      3.6 : 1.0\n"
          ]
        }
      ]
    },
    {
      "cell_type": "code",
      "source": [
        "cl.classify(\"She bruised a foot and went in with no works since her previous start three weeks earlier.\")"
      ],
      "metadata": {
        "colab": {
          "base_uri": "https://localhost:8080/",
          "height": 35
        },
        "id": "d-u0YuAlWKbS",
        "outputId": "b7dee622-e069-4901-dd3e-af45f62585d3"
      },
      "execution_count": null,
      "outputs": [
        {
          "output_type": "execute_result",
          "data": {
            "text/plain": [
              "'good'"
            ],
            "application/vnd.google.colaboratory.intrinsic+json": {
              "type": "string"
            }
          },
          "metadata": {},
          "execution_count": 77
        }
      ]
    },
    {
      "cell_type": "code",
      "source": [
        "cl.classify(\"Pat Riley once remarked that a champion needs a motivation above and beyond winning.\")"
      ],
      "metadata": {
        "colab": {
          "base_uri": "https://localhost:8080/",
          "height": 35
        },
        "id": "rtww_CmFWYtA",
        "outputId": "78cd1359-0ab4-45b4-e645-1d0b2dec2ddb"
      },
      "execution_count": null,
      "outputs": [
        {
          "output_type": "execute_result",
          "data": {
            "text/plain": [
              "'good'"
            ],
            "application/vnd.google.colaboratory.intrinsic+json": {
              "type": "string"
            }
          },
          "metadata": {},
          "execution_count": 78
        }
      ]
    },
    {
      "cell_type": "code",
      "source": [
        "cl.classify(\"And what’s the easiest way to save money on food and eat at home and brown bag it?\")"
      ],
      "metadata": {
        "colab": {
          "base_uri": "https://localhost:8080/",
          "height": 35
        },
        "id": "vBLuwraRXXMo",
        "outputId": "6f5ba835-ecff-45e7-af39-b1737e6c9e19"
      },
      "execution_count": null,
      "outputs": [
        {
          "output_type": "execute_result",
          "data": {
            "text/plain": [
              "'bad'"
            ],
            "application/vnd.google.colaboratory.intrinsic+json": {
              "type": "string"
            }
          },
          "metadata": {},
          "execution_count": 79
        }
      ]
    },
    {
      "cell_type": "code",
      "source": [
        "cl.classify(\"The unclean bank fraud insurance for the senate is written upon private agent.\")"
      ],
      "metadata": {
        "colab": {
          "base_uri": "https://localhost:8080/",
          "height": 35
        },
        "id": "eiXu20YiXeDt",
        "outputId": "ecf538e3-83c4-4035-a449-799325ef7ead"
      },
      "execution_count": null,
      "outputs": [
        {
          "output_type": "execute_result",
          "data": {
            "text/plain": [
              "'bad'"
            ],
            "application/vnd.google.colaboratory.intrinsic+json": {
              "type": "string"
            }
          },
          "metadata": {},
          "execution_count": 80
        }
      ]
    },
    {
      "cell_type": "code",
      "source": [
        "import urllib.request\n",
        "import codecs\n",
        "\n",
        "url = 'https://query.data.world/s/6kugtqkbdxcqmwf65ocegepxzrukna'\n",
        "\n",
        "ftpstream = urllib.request.urlopen(url)\n",
        "csvfile = csv.reader(codecs.iterdecode(ftpstream, 'utf-8'))\n",
        "\n",
        "idx = 0\n",
        "for line in csvfile:\n",
        "  if idx < 10:\n",
        "    print(line)\n",
        "    idx += 1"
      ],
      "metadata": {
        "colab": {
          "base_uri": "https://localhost:8080/"
        },
        "id": "nImLirH-X_XB",
        "outputId": "b4a89626-81c4-48ec-ad3e-82dcdf440c4e"
      },
      "execution_count": null,
      "outputs": [
        {
          "output_type": "stream",
          "name": "stdout",
          "text": [
            "['Word', 'Meaning', 'Examples/0', 'Examples/1', 'Examples/2', 'Examples/3', 'Examples/4', 'Examples/5', 'Examples/6', 'Examples/7', 'Examples/8', 'Examples/9']\n",
            "['A bed of roses', 'a phrase used to reference a situation that is easy or comfortable', 'The poor orphan’s life hasn’t been a bed of roses or easy by any means.', 'Because Mark studied for many weeks, taking the test was a bed of roses.', 'The stressed business owner quickly realized that running a company can be difficult and not a bed of roses.', '', '', '', '', '', '', '']\n",
            "['A Priori', 'something that is believed to be true without actual reinforcement with facts or statistics', 'Religious people have the a priori belief that God exists without any physical proof.', \"The jaded woman made a priori assumptions that all men were liars, but couldn't possibly know for sure because she has not dated all men.\", 'Christopher Columbus had the a priori belief that the Earth was flat and his men could sail right off the edge because of what he knew about latitude, but without actual experience.', 'People make a priori assumptions that the sun will rise and set without needing actual proof of the events.', 'Lawyers use a priori arguments about their defendants earlier good behavior to try and counteract their current crime, despite evidence to the contrary.', '', '', '', '', '']\n",
            "['Aardvark', 'a large, long-eared nocturnal animal that uses its long tongue to eat ants and termites', 'The long-eared aardvark slept all day and ate insects all night.', 'With its rabbit like ears and piglike snout, the aardvark is an interesting looking animal.', 'Living a solitary nightlife, the African aardvark is a quirky looking animal with sharp claws and a long snout.', 'The aardvark is a snouty mammal that dines heavily on termites and may eat as many as 100 thousand bugs in a single sitting.', 'Though it is a small mammal, the closest relative of the ant-eating aardvark is the elephant.', '', '', '', '', '']\n",
            "['Aback ', 'in amazement; shocked', 'I was taken aback by the server’s rude comment about my hair.', 'While Amy enjoyed the film as a whole, as a minister she couldn’t help but be taken aback by the strong use of profanity in the dialogue.', 'Ken believed he had a great marriage so he was definitely taken aback when he received divorce papers.', 'At seventy years of age, Wanda was taken aback when her doctor told her she was pregnant.', 'Although I had been exercising daily and eating correctly, I was still taken aback by the low number on the scale.', '', '', '', '', '']\n",
            "['Abaft', 'toward the stern; behind', 'The wind was abaft which made the ship glide faster towards our destination.', 'They placed the lifeboats in the rear part of the ship, so I headed abaft to retrieve one.', 'My first sailing lesson was learning that abaft was at the stern of the boat.', 'The sea spray was coming from abaft, making my back all wet.', 'I was told to sit abaft to lessen my seasickness because the rear of the ship was less choppy than the front.', '', '', '', '', '']\n",
            "['Abandon', 'to stop caring and leave or to desert', 'Since the young girl was unable to care for the newborn, she decided to abandon the child at a fire station.', 'Carl rarely commits to anything so everyone expects him to abandon his fiancée at the altar.', 'During the snow storm, many people made the decision to abandon their cars on the highway.', 'The military police is currently looking for the soldier who chose to abandon his post during battle.', 'Because this plan is not feasible, we need to abandon it and come up with another one.', '', '', '', '', '']\n",
            "['Abase', 'to lower so as to hurt feelings', 'My stepmother is an evil woman who likes to abase little children because she had a miserable childhood herself.', 'Because Mark hated himself, he often tried to abase others by calling them names.', 'I will not remain married to a man who tries to abase me in order to make me feel worthless!', 'Although I need money badly, I will not abase myself by working for pennies.', 'My jealous sister tried to abase me by making fun of my reading glasses.', 'When my brother behaved badly, my mother would abase him by comparing him to a bad puppy.', 'The gossip columnist tried to abase the singer’s reputation by spreading lies about him.', 'Even though John was angry at his wife for losing a thousand dollars, he chose not to abase her with cruel words.', 'Although Alice bullies smaller kids at school, she does not abase her younger brother at home.', 'I could not hold my tongue when the snobby customer in front of me tried to abase the salesperson by screaming at her.']\n",
            "['Abaser', 'someone who degrades or lowers someone', 'After the abaser would make fun of her daughter-in-law’s cooking, she would then continue to talk bad about the young woman’s appearance as well.', 'When everyone in the grocery store heard the abaser call her son names for dropping the fruit, other customers felt sorry for the little boy.', 'Even the abaser couldn’t think of something mean to say to the young child because it seemed he had run out of mean words to say.', 'People who have low self-esteem will likely become an abaser because it makes them feel better to insult someone else.', 'Usually the classmates would avoid the abaser at all times because they did not want to be the recipient of her verbal cruelty.', '', '', '', '', '']\n",
            "['Abash', 'to humiliate someone and make them feel embarrassed or ashamed', 'The officer tried to abash the inmates, humiliating them and treating them like dogs.', 'Daniel’s tendency to abash his wife left her embarrassed and thinking about divorce.', 'Though he claims he didn’t mean to abash his brother, the man has a long history of embarrassing him in public.', 'Ross vowed to humiliate his opponent and abash him in any way possible.', 'Because he doesn’t have any empathy, the evil man finds it fun to abash and embarrass others.', '', '', '', '', '']\n"
          ]
        }
      ]
    },
    {
      "cell_type": "code",
      "source": [
        "ftpstream = urllib.request.urlopen(url)\n",
        "csvfile = csv.reader(codecs.iterdecode(ftpstream, 'utf-8'))"
      ],
      "metadata": {
        "id": "B4TlWRwCfkIV"
      },
      "execution_count": null,
      "outputs": []
    },
    {
      "cell_type": "code",
      "source": [
        "from collections import defaultdict\n",
        "\n",
        "examples = defaultdict(list)\n",
        "idx = 0\n",
        "for line in csvfile:\n",
        "  for r in range(2,10):\n",
        "    if (line[0] in line[r] or line[0].lower() in line[r]) and cl.classify(line[r]) == 'good':\n",
        "      examples[line[0].lower()] += [line[r]]"
      ],
      "metadata": {
        "id": "R2QF40G2dY1b"
      },
      "execution_count": null,
      "outputs": []
    },
    {
      "cell_type": "code",
      "source": [
        "idx = 0\n",
        "for k, v in examples.items():\n",
        "  if idx < 10:\n",
        "    print(k, v)\n",
        "    idx += 1\n",
        "  else:\n",
        "    break"
      ],
      "metadata": {
        "colab": {
          "base_uri": "https://localhost:8080/"
        },
        "id": "Ayi2AH69e5Pl",
        "outputId": "caf2f974-2669-4867-be89-0f8ebc4f3735"
      },
      "execution_count": null,
      "outputs": [
        {
          "output_type": "stream",
          "name": "stdout",
          "text": [
            "a bed of roses ['The poor orphan’s life hasn’t been a bed of roses or easy by any means.', 'The stressed business owner quickly realized that running a company can be difficult and not a bed of roses.']\n",
            "a priori ['Religious people have the a priori belief that God exists without any physical proof.', \"The jaded woman made a priori assumptions that all men were liars, but couldn't possibly know for sure because she has not dated all men.\", 'Christopher Columbus had the a priori belief that the Earth was flat and his men could sail right off the edge because of what he knew about latitude, but without actual experience.', 'People make a priori assumptions that the sun will rise and set without needing actual proof of the events.']\n",
            "aardvark ['The long-eared aardvark slept all day and ate insects all night.', 'Living a solitary nightlife, the African aardvark is a quirky looking animal with sharp claws and a long snout.', 'Though it is a small mammal, the closest relative of the ant-eating aardvark is the elephant.']\n",
            "aback  ['Ken believed he had a great marriage so he was definitely taken aback when he received divorce papers.', 'At seventy years of age, Wanda was taken aback when her doctor told her she was pregnant.']\n",
            "abaft ['The wind was abaft which made the ship glide faster towards our destination.', 'They placed the lifeboats in the rear part of the ship, so I headed abaft to retrieve one.', 'My first sailing lesson was learning that abaft was at the stern of the boat.', 'I was told to sit abaft to lessen my seasickness because the rear of the ship was less choppy than the front.']\n",
            "abandon ['Since the young girl was unable to care for the newborn, she decided to abandon the child at a fire station.', 'Carl rarely commits to anything so everyone expects him to abandon his fiancée at the altar.']\n",
            "abase ['My stepmother is an evil woman who likes to abase little children because she had a miserable childhood herself.', 'I will not remain married to a man who tries to abase me in order to make me feel worthless!', 'Even though John was angry at his wife for losing a thousand dollars, he chose not to abase her with cruel words.']\n",
            "abaser ['After the abaser would make fun of her daughter-in-law’s cooking, she would then continue to talk bad about the young woman’s appearance as well.', 'When everyone in the grocery store heard the abaser call her son names for dropping the fruit, other customers felt sorry for the little boy.', 'Even the abaser couldn’t think of something mean to say to the young child because it seemed he had run out of mean words to say.', 'People who have low self-esteem will likely become an abaser because it makes them feel better to insult someone else.']\n",
            "abash ['Daniel’s tendency to abash his wife left her embarrassed and thinking about divorce.', 'Though he claims he didn’t mean to abash his brother, the man has a long history of embarrassing him in public.', 'Because he doesn’t have any empathy, the evil man finds it fun to abash and embarrass others.']\n",
            "abate ['I hope this medicine will abate the pain in my leg.', 'With any luck, the storm will abate soon so we can still have our picnic.', 'I married my husband because I know my love for him will never abate.']\n"
          ]
        }
      ]
    },
    {
      "cell_type": "code",
      "source": [
        "with open(\"dataworld_examples.csv\", 'w') as out_file:\n",
        "    for word, example in examples.items():\n",
        "        for exs in example:\n",
        "                out_file.write(word.strip() + '\\t' + exs.strip()  + '\\n')"
      ],
      "metadata": {
        "id": "z62nHGTZPHR5"
      },
      "execution_count": null,
      "outputs": []
    },
    {
      "cell_type": "code",
      "source": [
        "import requests\n",
        "\n",
        "def get_response(word, apiUrl = \"http://api.wordnik.com/v4\", apiKey = \"3wba1xzr2bj6v2wayrbumg40vfqqig0r4fqo0u2yguva70aqs\"):\n",
        "    headers = {'api_key': apiKey}\n",
        "    url = apiUrl + '/word.json/' + word + '/examples'\n",
        "    return requests.get(url, headers=headers)\n",
        "\n",
        "def get_examples_json(response):\n",
        "    examples = [example['text'] for example in response.json()['examples']]\n",
        "    return examples\n",
        "\n",
        "def clean_examples(examples, word):\n",
        "    examples = list(set(examples))\n",
        "    examples = [example.replace(word.lower(), ('_')).replace(word.capitalize(), ('_')) for example in examples]\n",
        "    return examples"
      ],
      "metadata": {
        "id": "_UPBRdQZsAea"
      },
      "execution_count": null,
      "outputs": []
    },
    {
      "cell_type": "code",
      "source": [
        "print(examples[\"synthetic\"])"
      ],
      "metadata": {
        "colab": {
          "base_uri": "https://localhost:8080/"
        },
        "id": "TMI8q59pscyD",
        "outputId": "ece5ea69-03df-4d3a-e32e-5dc16278a0b6"
      },
      "execution_count": null,
      "outputs": [
        {
          "output_type": "stream",
          "name": "stdout",
          "text": [
            "['April bought a pair of synthetic leather pants that looked nothing like real leather.', 'The synthetic sugar is easily recognized because it does not taste like the genuine product.', 'Several religious groups believe science is going too far with the development of synthetic genes.']\n"
          ]
        }
      ]
    },
    {
      "cell_type": "code",
      "source": [
        "test_word = \"synthetic\"\n",
        "\n",
        "r = get_response(test_word)\n",
        "print(r.headers)"
      ],
      "metadata": {
        "colab": {
          "base_uri": "https://localhost:8080/"
        },
        "id": "kUMrdEeIsYtT",
        "outputId": "710f4fb1-5505-4d3d-e389-51f31f96a4d0"
      },
      "execution_count": null,
      "outputs": [
        {
          "output_type": "stream",
          "name": "stdout",
          "text": [
            "{'Date': 'Mon, 17 Oct 2022 11:28:18 GMT', 'Content-Type': 'application/json; charset=utf-8', 'Transfer-Encoding': 'chunked', 'Connection': 'keep-alive', 'X-RateLimit-Limit-Hour': '200', 'RateLimit-Reset': '42', 'RateLimit-Remaining': '4', 'RateLimit-Limit': '5', 'X-RateLimit-Limit-Minute': '5', 'X-RateLimit-Remaining-Minute': '4', 'X-RateLimit-Remaining-Hour': '199', 'Server': 'nginx/1.20.0', 'cache-control': 'no-cache', 'vary': 'accept-encoding', 'content-encoding': 'gzip', 'Access-Control-Allow-Origin': '*', 'X-Kong-Upstream-Latency': '11', 'X-Kong-Proxy-Latency': '0', 'Via': 'kong/2.8.1'}\n"
          ]
        }
      ]
    },
    {
      "cell_type": "code",
      "source": [
        "test_example = get_examples_json(r)\n",
        "print(test_example)"
      ],
      "metadata": {
        "colab": {
          "base_uri": "https://localhost:8080/"
        },
        "id": "hRoDo_L2swW4",
        "outputId": "f1b2d5ad-34c1-42e2-f4a9-87012bd470c5"
      },
      "execution_count": null,
      "outputs": [
        {
          "output_type": "stream",
          "name": "stdout",
          "text": [
            "['It was on his recovery from his first grave attack that he shaped the plan which henceforth held him, of organising the modern sciences and incorporating them into what he called a synthetic philosophy.', 'But inactivating both of those enzymes caused what the researchers term synthetic lethality: two inactivations that separately were nonlethal but together cause bacterial death.', 'But inactivating both of those enzymes caused what the researchers term synthetic lethality: two inactivations that separately were nonlethal but together cause bacterial death.', 'For a tough use knife i would much prefer a syntheric over bone, wood, or stag because synthetic is typically tougher.', 'Both are classified as synthetic opiates and in the same class of drugs as heroin, morphine and opium.', 'Work in synthetic organic chemistry was also recognized in 1979 with the prize to Herbert C.', 'Look for foods bearing the green-and-white USDA certified organic label, but be aware that foods labeled \"made with organic ingredients\" may still contain synthetic dyes.', 'For a tough use knife i would much prefer a syntheric over bone, wood, or stag because synthetic is typically tougher.', 'Police said Soto Reyes allegedly traded in synthetic drugs on routes established by former Sinaloa leader Ignacio \"Nacho\" Coronel, who was killed in a gunbattle with soldiers in July.', 'Police said Soto Reyes allegedly traded in synthetic drugs on routes established by former Sinaloa leader Ignacio \"Nacho\" Coronel, who was killed in a gunbattle with soldiers in July.']\n"
          ]
        }
      ]
    },
    {
      "cell_type": "code",
      "source": [
        "for ex in test_example:\n",
        "  if cl.classify(ex) == 'good':\n",
        "    print(ex)"
      ],
      "metadata": {
        "colab": {
          "base_uri": "https://localhost:8080/"
        },
        "id": "s8kAGvF2tdIJ",
        "outputId": "6a825293-7411-4460-bccc-8f59926b10df"
      },
      "execution_count": null,
      "outputs": [
        {
          "output_type": "stream",
          "name": "stdout",
          "text": [
            "Look for foods bearing the green-and-white USDA certified organic label, but be aware that foods labeled \"made with organic ingredients\" may still contain synthetic dyes.\n"
          ]
        }
      ]
    },
    {
      "cell_type": "code",
      "source": [
        "min_length = 75\n",
        "max_length = 100\n",
        "\n",
        "test_words = [\"research\", \"computer\", \"arrogant\"]\n",
        "for w in test_words:\n",
        "  resp = get_response(w)\n",
        "  t_ex = get_examples_json(resp)\n",
        "  for ex in t_ex:\n",
        "    # if len(ex) > min_length and len(ex) < max_length: # and cl.classify(ex) == 'good'\n",
        "      print(ex)"
      ],
      "metadata": {
        "colab": {
          "base_uri": "https://localhost:8080/"
        },
        "id": "igdgzNREuI0-",
        "outputId": "366a9714-efac-4412-9f3a-8cb04ac696e8"
      },
      "execution_count": null,
      "outputs": [
        {
          "output_type": "stream",
          "name": "stdout",
          "text": [
            "WORDS ACCENTED ON THE LAST SYLLABLE: address _address'_ adept _adept'_ adult _adult'_ ally _ally'_ commandant _commandänt '(ä as in arm) _ contour _contour'_ dessert _dessert'_ dilate _dilate'_ excise _eksiz'_ finance _finance'_ grimace _grimace'_ importune _importune'_ occult _occult'_ pretence _pretence'_ research _research'_ robust _robust'_ romance _romance'_ tirade _tirade'_\n",
            "The objective of this research is the development of novel approaches to creating modular computer codes which will make it much easier to develop and apply computer models to an extended range of applications in research, industry and education.\n",
            "However, this federally restricted use of the word research does not mean that the observations from personal life (herein called Type I Investigations) or experimenter pretesting (Type II Investigations) are either unimportant or uninformative and should therefore be dismissed.\n",
            "In everyday language, the word research has a broad spectrum of applications.\n",
            "The process of self-science extends beyond restricted semantic uses of the term research; it encompasses the deepest sense of what it means to do research.\n",
            "\"Investing in research is like investing in better brake linings, when taking your foot off the accelerator would do just as well.\"\n",
            "The process of self-science extends beyond restricted semantic uses of the term research; it encompasses the deepest sense of what it means to do research.\n",
            "However, this federally restricted use of the word research does not mean that the observations from personal life (herein called Type I Investigations) or experimenter pretesting (Type II Investigations) are either unimportant or uninformative and should therefore be dismissed.\n",
            "However, sometimes the word research is by necessity employed in the general everyday context of the word because it is the clearest way to convey the fact that the scientific method can be applied in our personal lives as well as in university laboratories.\n",
            "The word research has both general and specialized meanings, and it is essential that I clarify how the term is being used in this book.\n",
            "Clowns like Parson wouldn't be able to cause widespread damage if people took responsibility for what *their* computer is doing how many computers did *your computer* infect?\n",
            "Clowns like Parson wouldn't be able to cause widespread damage if people took responsibility for what *their* computer is doing how many computers did *your computer* infect?\n",
            "Clowns like Parson wouldn't be able to cause widespread damage if people took responsibility for what *their* computer is doing how many computers did *your computer* infect?\n",
            "For 10 computer languages, this chart summarizes the number of books offered at, the number of hits on the query \"+Language +computer\"\n",
            "Get-WmiObject - Class win32_desktopmonitor - ComputerName $computer WMI class to return information about printers defined on a computer, you will almost always return a lot of things that are not really printers such as the Microsoft XPS Document printer, a fax machine, and even some image capturing software.\n",
            "Get-WmiObject - Class win32_computersystem - ComputerName $computer To get information about the monitor that is attached to the computer, the\n",
            "Add ( \"Connectors. vss\") $pcinfo = Get-ComputerSystem - computer $computer\n",
            "Very Proficient with desktop and web-based applications and web-based applications (40\\%) (52. 6\\%) • Familiar with using a computer• Familiar with using a and office application suites, computer and office but not familiar with hardware application suites, but not technologies\n",
            "$printerinfo = Get-DefaultPrinter - computer $computer\n",
            "$networkinfo = Get-NetworkAdapterConfiguration - computer $computer\n",
            "But instead his posture was as erect as ever, his expression arrogant and aloof, and the body that should have looked soft and pale was even more toned after months behind bars.\n",
            "I would not describe myself as an arrogant nerd, I prefer the term arrogant geek ...and on that bombshell\n",
            "Obama the arrogant is a very small man not fit to be president.\n",
            "Happening now, Iran defiance loud and clear inside the United Nations, the president, Mahmoud Ahmadinejad, attacking what he calls arrogant powers and reinforcing his hatred of the United States.\n",
            "Supreme Leader Ayatollah Khamenei described what he called the arrogant policies of the Bush administration.\n",
            "His only reply would be a sweet, submissive smile which irritated her, and which she called arrogant and presumptuous.\n",
            "Mahmoud Ahmadinejad says popular demands for change will put an end to the oppression of what he called \"arrogant powers.\"\n",
            "As in previous years he criticized what he called the \"arrogant powers\" and suggested the United States and its western allies were to blame for global instability.\n",
            "And he feels entitled to pass judgment on Cambridge cops or on pediatricians … As we learned in the campaign last year, \"arrogant\" is the new \"uppity.\"\n",
            "Second, I agree that \"arrogant\" is a very appropriate description.\n"
          ]
        }
      ]
    },
    {
      "cell_type": "code",
      "source": [
        "test_words = [\"aardvark\", \"atom\", \"exhibition\"]\n",
        "for w in test_words:\n",
        "  resp = get_response(w)\n",
        "  t_ex = get_examples_json(resp)\n",
        "  for ex in t_ex:\n",
        "    if len(ex) > min_length and len(ex) < max_length: # and cl.classify(ex) == 'good'\n",
        "      print(ex)"
      ],
      "metadata": {
        "colab": {
          "base_uri": "https://localhost:8080/"
        },
        "id": "F-lGswmy1H9y",
        "outputId": "214aa079-3887-482f-ad89-12b86ecaa26d"
      },
      "execution_count": null,
      "outputs": [
        {
          "output_type": "stream",
          "name": "stdout",
          "text": [
            "Look, anyone older than eight who admits to an affection for an animated aardvark is one cool kid.\n",
            "Look, anyone older than eight who admits to an affection for an animated aardvark is one cool kid.\n",
            "Look, anyone older than eight who admits to an affection for an animated aardvark is one cool kid.\n",
            "Look, anyone older than eight who admits to an affection for an animated aardvark is one cool kid.\n",
            "Look, anyone older than eight who admits to an affection for an animated aardvark is one cool kid.\n",
            "He's the kid who taught a world of youngsters how to spell \"aardvark\" - and that's not all.\n",
            "What fascinates me most about this is that you now have a tag for \"aardvark\"\n",
            "The energy produced by the breaking down of the atom is a very poor kind of thing.\n"
          ]
        }
      ]
    },
    {
      "cell_type": "code",
      "source": [
        "from textblob.classifiers import DecisionTreeClassifier\n",
        "\n",
        "dc = DecisionTreeClassifier(train)"
      ],
      "metadata": {
        "id": "WMVw7zXsDc8g"
      },
      "execution_count": null,
      "outputs": []
    },
    {
      "cell_type": "code",
      "source": [
        "dc.accuracy(test)"
      ],
      "metadata": {
        "colab": {
          "base_uri": "https://localhost:8080/"
        },
        "id": "zBhxsmsGDsic",
        "outputId": "ce3fb424-e3e8-4d16-8329-d455c891b603"
      },
      "execution_count": null,
      "outputs": [
        {
          "output_type": "execute_result",
          "data": {
            "text/plain": [
              "0.7582417582417582"
            ]
          },
          "metadata": {},
          "execution_count": 58
        }
      ]
    },
    {
      "cell_type": "code",
      "source": [
        "from textblob.classifiers import MaxEntClassifier\n",
        "\n",
        "mc = MaxEntClassifier(train)"
      ],
      "metadata": {
        "id": "cyKfWoUPD5Y4"
      },
      "execution_count": null,
      "outputs": []
    },
    {
      "cell_type": "code",
      "source": [
        "mc.accuracy(test)"
      ],
      "metadata": {
        "colab": {
          "base_uri": "https://localhost:8080/"
        },
        "id": "66-4FeWwGk14",
        "outputId": "e84f341e-0a44-4a10-8712-b7cba6124123"
      },
      "execution_count": null,
      "outputs": [
        {
          "output_type": "execute_result",
          "data": {
            "text/plain": [
              "0.7637362637362637"
            ]
          },
          "metadata": {},
          "execution_count": 61
        }
      ]
    },
    {
      "cell_type": "code",
      "source": [],
      "metadata": {
        "id": "yUORr551JfoV"
      },
      "execution_count": null,
      "outputs": []
    }
  ]
}